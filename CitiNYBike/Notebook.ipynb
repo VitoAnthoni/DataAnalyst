{
 "cells": [
  {
   "cell_type": "markdown",
   "id": "d2c6e798",
   "metadata": {},
   "source": [
    "# CITI NY Bike Data Analysis <br>\n",
    "\n",
    "In this analysis I will be doing analysis through **Citi Bike in the NY** from data provided by **Career Foundry Challange**. The main problem statement that has been defined are : <br>\n",
    "\n",
    "<ol>\n",
    "<li>What are the most popular pick-up locations across the city for NY Citi Bike rental?\n",
    "<li>How does the average trip duration vary across different age groups?\n",
    "<li>Which age group rents the most bikes?\n",
    "<li>How does bike rental vary across the two user groups (one-time users vs long-term subscribers) on different days of the week?\n",
    "<li>Does user age impact the average bike trip duration?\n",
    "</ol>\n",
    "<br>"
   ]
  },
  {
   "cell_type": "code",
   "execution_count": 71,
   "id": "034fd5ba",
   "metadata": {},
   "outputs": [
    {
     "name": "stdout",
     "output_type": "stream",
     "text": [
      "Requirement already satisfied: sqldf in c:\\anaconda3\\lib\\site-packages (0.4.2)\n",
      "Setup Complete\n"
     ]
    }
   ],
   "source": [
    "#Environment setup\n",
    "import pandas as pd\n",
    "import numpy as np\n",
    "import matplotlib.pyplot as plt\n",
    "import seaborn as sns\n",
    "import datetime as dt\n",
    "\n",
    "#installing sql enabler\n",
    "!pip install sqldf\n",
    "\n",
    "import sqldf\n",
    "print(\"Setup Complete\")"
   ]
  },
  {
   "cell_type": "markdown",
   "id": "0c703c7f",
   "metadata": {},
   "source": [
    "## 1) Data Preparation and Cleanign Step\n",
    "\n",
    "In this stage we will import the data into Pandas Dataframe, Explore to familiarize and do basic cleaning."
   ]
  },
  {
   "cell_type": "code",
   "execution_count": 2,
   "id": "993b88c2",
   "metadata": {},
   "outputs": [
    {
     "data": {
      "text/html": [
       "<div>\n",
       "<style scoped>\n",
       "    .dataframe tbody tr th:only-of-type {\n",
       "        vertical-align: middle;\n",
       "    }\n",
       "\n",
       "    .dataframe tbody tr th {\n",
       "        vertical-align: top;\n",
       "    }\n",
       "\n",
       "    .dataframe thead th {\n",
       "        text-align: right;\n",
       "    }\n",
       "</style>\n",
       "<table border=\"1\" class=\"dataframe\">\n",
       "  <thead>\n",
       "    <tr style=\"text-align: right;\">\n",
       "      <th></th>\n",
       "      <th>Start Time</th>\n",
       "      <th>Stop Time</th>\n",
       "      <th>Start Station ID</th>\n",
       "      <th>Start Station Name</th>\n",
       "      <th>End Station ID</th>\n",
       "      <th>End Station Name</th>\n",
       "      <th>Bike ID</th>\n",
       "      <th>User Type</th>\n",
       "      <th>Birth Year</th>\n",
       "      <th>Age</th>\n",
       "      <th>Age Groups</th>\n",
       "      <th>Trip Duration</th>\n",
       "      <th>Trip_Duration_in_min</th>\n",
       "      <th>Month</th>\n",
       "      <th>Season</th>\n",
       "      <th>Temperature</th>\n",
       "      <th>Weekday</th>\n",
       "    </tr>\n",
       "  </thead>\n",
       "  <tbody>\n",
       "    <tr>\n",
       "      <th>0</th>\n",
       "      <td>01-01-17 00:38</td>\n",
       "      <td>1-1-17 01:03</td>\n",
       "      <td>3194</td>\n",
       "      <td>McGinley Square</td>\n",
       "      <td>3271</td>\n",
       "      <td>Danforth Light Rail</td>\n",
       "      <td>24668</td>\n",
       "      <td>Subscriber</td>\n",
       "      <td>1961</td>\n",
       "      <td>60</td>\n",
       "      <td>55-64</td>\n",
       "      <td>1513</td>\n",
       "      <td>25</td>\n",
       "      <td>1</td>\n",
       "      <td>Winter</td>\n",
       "      <td>10</td>\n",
       "      <td>Sunday</td>\n",
       "    </tr>\n",
       "    <tr>\n",
       "      <th>1</th>\n",
       "      <td>01-01-17 01:47</td>\n",
       "      <td>01-01-17 01:58</td>\n",
       "      <td>3183</td>\n",
       "      <td>Exchange Place</td>\n",
       "      <td>3203</td>\n",
       "      <td>Hamilton Park</td>\n",
       "      <td>26167</td>\n",
       "      <td>Subscriber</td>\n",
       "      <td>1993</td>\n",
       "      <td>28</td>\n",
       "      <td>25-34</td>\n",
       "      <td>639</td>\n",
       "      <td>11</td>\n",
       "      <td>1</td>\n",
       "      <td>Winter</td>\n",
       "      <td>10</td>\n",
       "      <td>Sunday</td>\n",
       "    </tr>\n",
       "    <tr>\n",
       "      <th>2</th>\n",
       "      <td>01-01-17 01:47</td>\n",
       "      <td>01-01-17 01:58</td>\n",
       "      <td>3183</td>\n",
       "      <td>Exchange Place</td>\n",
       "      <td>3203</td>\n",
       "      <td>Hamilton Park</td>\n",
       "      <td>26167</td>\n",
       "      <td>Subscriber</td>\n",
       "      <td>1993</td>\n",
       "      <td>28</td>\n",
       "      <td>25-34</td>\n",
       "      <td>639</td>\n",
       "      <td>11</td>\n",
       "      <td>1</td>\n",
       "      <td>Winter</td>\n",
       "      <td>10</td>\n",
       "      <td>Sunday</td>\n",
       "    </tr>\n",
       "    <tr>\n",
       "      <th>3</th>\n",
       "      <td>01-01-17 01:56</td>\n",
       "      <td>01-01-17 02:00</td>\n",
       "      <td>3186</td>\n",
       "      <td>Grove St PATH</td>\n",
       "      <td>3270</td>\n",
       "      <td>Jersey &amp; 6th St</td>\n",
       "      <td>24604</td>\n",
       "      <td>Subscriber</td>\n",
       "      <td>1970</td>\n",
       "      <td>51</td>\n",
       "      <td>45-54</td>\n",
       "      <td>258</td>\n",
       "      <td>4</td>\n",
       "      <td>1</td>\n",
       "      <td>Winter</td>\n",
       "      <td>10</td>\n",
       "      <td>Sunday</td>\n",
       "    </tr>\n",
       "    <tr>\n",
       "      <th>4</th>\n",
       "      <td>1-1-17 02:12</td>\n",
       "      <td>01-01-17 02:23</td>\n",
       "      <td>3270</td>\n",
       "      <td>Jersey &amp; 6th St</td>\n",
       "      <td>3206</td>\n",
       "      <td>Hilltop</td>\n",
       "      <td>24641</td>\n",
       "      <td>Subscriber</td>\n",
       "      <td>1978</td>\n",
       "      <td>43</td>\n",
       "      <td>35-44</td>\n",
       "      <td>663</td>\n",
       "      <td>11</td>\n",
       "      <td>1</td>\n",
       "      <td>Winter</td>\n",
       "      <td>10</td>\n",
       "      <td>Sunday</td>\n",
       "    </tr>\n",
       "  </tbody>\n",
       "</table>\n",
       "</div>"
      ],
      "text/plain": [
       "       Start Time       Stop Time  Start Station ID Start Station Name  \\\n",
       "0  01-01-17 00:38    1-1-17 01:03              3194    McGinley Square   \n",
       "1  01-01-17 01:47  01-01-17 01:58              3183     Exchange Place   \n",
       "2  01-01-17 01:47  01-01-17 01:58              3183     Exchange Place   \n",
       "3  01-01-17 01:56  01-01-17 02:00              3186      Grove St PATH   \n",
       "4    1-1-17 02:12  01-01-17 02:23              3270    Jersey & 6th St   \n",
       "\n",
       "   End Station ID     End Station Name  Bike ID   User Type  Birth Year  Age  \\\n",
       "0            3271  Danforth Light Rail    24668  Subscriber        1961   60   \n",
       "1            3203        Hamilton Park    26167  Subscriber        1993   28   \n",
       "2            3203        Hamilton Park    26167  Subscriber        1993   28   \n",
       "3            3270      Jersey & 6th St    24604  Subscriber        1970   51   \n",
       "4            3206              Hilltop    24641  Subscriber        1978   43   \n",
       "\n",
       "  Age Groups  Trip Duration Trip_Duration_in_min  Month  Season  Temperature  \\\n",
       "0      55-64           1513                   25      1  Winter           10   \n",
       "1      25-34            639                   11      1  Winter           10   \n",
       "2      25-34            639                   11      1  Winter           10   \n",
       "3      45-54            258                    4      1  Winter           10   \n",
       "4      35-44            663                   11      1  Winter           10   \n",
       "\n",
       "  Weekday  \n",
       "0  Sunday  \n",
       "1  Sunday  \n",
       "2  Sunday  \n",
       "3  Sunday  \n",
       "4  Sunday  "
      ]
     },
     "execution_count": 2,
     "metadata": {},
     "output_type": "execute_result"
    }
   ],
   "source": [
    "cb = pd.read_csv('NYCitiBikes.csv')\n",
    "cb.head()"
   ]
  },
  {
   "cell_type": "code",
   "execution_count": 3,
   "id": "2c2b50fe",
   "metadata": {},
   "outputs": [
    {
     "data": {
      "text/plain": [
       "Index(['Start Time', 'Stop Time', 'Start Station ID', 'Start Station Name',\n",
       "       'End Station ID', 'End Station Name', 'Bike ID', 'User Type',\n",
       "       'Birth Year', 'Age', 'Age Groups', 'Trip Duration',\n",
       "       'Trip_Duration_in_min', 'Month', 'Season', 'Temperature', 'Weekday'],\n",
       "      dtype='object')"
      ]
     },
     "execution_count": 3,
     "metadata": {},
     "output_type": "execute_result"
    }
   ],
   "source": [
    "cb.columns"
   ]
  },
  {
   "cell_type": "code",
   "execution_count": 4,
   "id": "93867da1",
   "metadata": {},
   "outputs": [],
   "source": [
    "df = cb[['Start Time','Start Station Name','User Type','Age','Age Groups','Trip Duration']]"
   ]
  },
  {
   "cell_type": "code",
   "execution_count": 5,
   "id": "1ca0ef06",
   "metadata": {},
   "outputs": [
    {
     "data": {
      "text/html": [
       "<div>\n",
       "<style scoped>\n",
       "    .dataframe tbody tr th:only-of-type {\n",
       "        vertical-align: middle;\n",
       "    }\n",
       "\n",
       "    .dataframe tbody tr th {\n",
       "        vertical-align: top;\n",
       "    }\n",
       "\n",
       "    .dataframe thead th {\n",
       "        text-align: right;\n",
       "    }\n",
       "</style>\n",
       "<table border=\"1\" class=\"dataframe\">\n",
       "  <thead>\n",
       "    <tr style=\"text-align: right;\">\n",
       "      <th></th>\n",
       "      <th>Start Time</th>\n",
       "      <th>Start Station Name</th>\n",
       "      <th>User Type</th>\n",
       "      <th>Age</th>\n",
       "      <th>Age Groups</th>\n",
       "      <th>Trip Duration</th>\n",
       "    </tr>\n",
       "  </thead>\n",
       "  <tbody>\n",
       "    <tr>\n",
       "      <th>0</th>\n",
       "      <td>01-01-17 00:38</td>\n",
       "      <td>McGinley Square</td>\n",
       "      <td>Subscriber</td>\n",
       "      <td>60</td>\n",
       "      <td>55-64</td>\n",
       "      <td>1513</td>\n",
       "    </tr>\n",
       "    <tr>\n",
       "      <th>1</th>\n",
       "      <td>01-01-17 01:47</td>\n",
       "      <td>Exchange Place</td>\n",
       "      <td>Subscriber</td>\n",
       "      <td>28</td>\n",
       "      <td>25-34</td>\n",
       "      <td>639</td>\n",
       "    </tr>\n",
       "    <tr>\n",
       "      <th>2</th>\n",
       "      <td>01-01-17 01:47</td>\n",
       "      <td>Exchange Place</td>\n",
       "      <td>Subscriber</td>\n",
       "      <td>28</td>\n",
       "      <td>25-34</td>\n",
       "      <td>639</td>\n",
       "    </tr>\n",
       "    <tr>\n",
       "      <th>3</th>\n",
       "      <td>01-01-17 01:56</td>\n",
       "      <td>Grove St PATH</td>\n",
       "      <td>Subscriber</td>\n",
       "      <td>51</td>\n",
       "      <td>45-54</td>\n",
       "      <td>258</td>\n",
       "    </tr>\n",
       "    <tr>\n",
       "      <th>4</th>\n",
       "      <td>1-1-17 02:12</td>\n",
       "      <td>Jersey &amp; 6th St</td>\n",
       "      <td>Subscriber</td>\n",
       "      <td>43</td>\n",
       "      <td>35-44</td>\n",
       "      <td>663</td>\n",
       "    </tr>\n",
       "  </tbody>\n",
       "</table>\n",
       "</div>"
      ],
      "text/plain": [
       "       Start Time Start Station Name   User Type  Age Age Groups  \\\n",
       "0  01-01-17 00:38    McGinley Square  Subscriber   60      55-64   \n",
       "1  01-01-17 01:47     Exchange Place  Subscriber   28      25-34   \n",
       "2  01-01-17 01:47     Exchange Place  Subscriber   28      25-34   \n",
       "3  01-01-17 01:56      Grove St PATH  Subscriber   51      45-54   \n",
       "4    1-1-17 02:12    Jersey & 6th St  Subscriber   43      35-44   \n",
       "\n",
       "   Trip Duration  \n",
       "0           1513  \n",
       "1            639  \n",
       "2            639  \n",
       "3            258  \n",
       "4            663  "
      ]
     },
     "execution_count": 5,
     "metadata": {},
     "output_type": "execute_result"
    }
   ],
   "source": [
    "df.head()"
   ]
  },
  {
   "cell_type": "code",
   "execution_count": 6,
   "id": "e1f791f6",
   "metadata": {},
   "outputs": [
    {
     "name": "stderr",
     "output_type": "stream",
     "text": [
      "C:\\Users\\Vito A S\\AppData\\Local\\Temp\\ipykernel_15344\\3772065249.py:2: SettingWithCopyWarning: \n",
      "A value is trying to be set on a copy of a slice from a DataFrame.\n",
      "Try using .loc[row_indexer,col_indexer] = value instead\n",
      "\n",
      "See the caveats in the documentation: https://pandas.pydata.org/pandas-docs/stable/user_guide/indexing.html#returning-a-view-versus-a-copy\n",
      "  df['Start Time'] = pd.to_datetime(df['Start Time'])\n"
     ]
    }
   ],
   "source": [
    "#formatting the start Time col to have the same format all\n",
    "df['Start Time'] = pd.to_datetime(df['Start Time'])"
   ]
  },
  {
   "cell_type": "code",
   "execution_count": 7,
   "id": "efdc79f9",
   "metadata": {},
   "outputs": [
    {
     "name": "stdout",
     "output_type": "stream",
     "text": [
      "(20400, 6)\n"
     ]
    }
   ],
   "source": [
    "print(df.shape)"
   ]
  },
  {
   "cell_type": "code",
   "execution_count": 8,
   "id": "5e6851da",
   "metadata": {},
   "outputs": [
    {
     "name": "stdout",
     "output_type": "stream",
     "text": [
      "(16842, 6)\n"
     ]
    }
   ],
   "source": [
    "#Handling Duplicates\n",
    "df = df.drop_duplicates()\n",
    "print(df.shape)"
   ]
  },
  {
   "cell_type": "code",
   "execution_count": 9,
   "id": "b3d2de07",
   "metadata": {},
   "outputs": [
    {
     "data": {
      "text/plain": [
       "Start Time            0\n",
       "Start Station Name    0\n",
       "User Type             0\n",
       "Age                   0\n",
       "Age Groups            0\n",
       "Trip Duration         0\n",
       "dtype: int64"
      ]
     },
     "execution_count": 9,
     "metadata": {},
     "output_type": "execute_result"
    }
   ],
   "source": [
    "df.isna().sum()\n",
    "#Dapat dilihat tidak ada missing value dari data setb"
   ]
  },
  {
   "cell_type": "code",
   "execution_count": 92,
   "id": "3ed2f8aa",
   "metadata": {},
   "outputs": [
    {
     "data": {
      "text/plain": [
       "Start Time            datetime64[ns]\n",
       "Start Station Name            object\n",
       "User Type                     object\n",
       "Age                            int64\n",
       "Age Groups                    object\n",
       "Trip Duration                  int64\n",
       "dtype: object"
      ]
     },
     "execution_count": 92,
     "metadata": {},
     "output_type": "execute_result"
    }
   ],
   "source": [
    "df.dtypes"
   ]
  },
  {
   "cell_type": "code",
   "execution_count": 102,
   "id": "9c1f2e45",
   "metadata": {},
   "outputs": [],
   "source": [
    "#Changinge Start Time into date format\n",
    "df['Start Time'] = pd.to_datetime(df['Start Time'])"
   ]
  },
  {
   "cell_type": "markdown",
   "id": "822a7136",
   "metadata": {},
   "source": [
    "# 2) EDA Data Exploration <br>\n",
    "\n",
    "This step focus on finding insight through data. In this project we well try to use SQL Queries and Python function to summarize the data."
   ]
  },
  {
   "cell_type": "code",
   "execution_count": 10,
   "id": "9f053af9",
   "metadata": {},
   "outputs": [],
   "source": [
    "#What are the most popular pick-up locations across the city for NY Citi Bike rental?\n",
    "querry = \"\"\"\n",
    "SELECT \n",
    "    \"Start Station Name\" AS PickUp_Point,\n",
    "    count(*) AS Number\n",
    "FROM df \n",
    "GROUP BY 1\n",
    "ORDER BY 2 DESC;\n",
    "\"\"\"\n",
    "df_viz = sqldf.run(querry)"
   ]
  },
  {
   "cell_type": "code",
   "execution_count": 11,
   "id": "01d50c81",
   "metadata": {},
   "outputs": [],
   "source": [
    "#Visualization\n",
    "top = df_viz.loc[:4].sort_values(by='Number',ascending = True).reset_index(drop = True)"
   ]
  },
  {
   "cell_type": "code",
   "execution_count": 12,
   "id": "3232c88f",
   "metadata": {},
   "outputs": [],
   "source": [
    "other = pd.DataFrame({\n",
    "    'PickUp_Point': ['Others'],\n",
    "    'Number': df_viz.loc[4:].sum()[1]\n",
    "})\n",
    "df_viz = pd.concat([top, other])"
   ]
  },
  {
   "cell_type": "code",
   "execution_count": 15,
   "id": "322c8ca5",
   "metadata": {},
   "outputs": [
    {
     "data": {
      "text/html": [
       "<div>\n",
       "<style scoped>\n",
       "    .dataframe tbody tr th:only-of-type {\n",
       "        vertical-align: middle;\n",
       "    }\n",
       "\n",
       "    .dataframe tbody tr th {\n",
       "        vertical-align: top;\n",
       "    }\n",
       "\n",
       "    .dataframe thead th {\n",
       "        text-align: right;\n",
       "    }\n",
       "</style>\n",
       "<table border=\"1\" class=\"dataframe\">\n",
       "  <thead>\n",
       "    <tr style=\"text-align: right;\">\n",
       "      <th></th>\n",
       "      <th>PickUp_Point</th>\n",
       "      <th>Number</th>\n",
       "    </tr>\n",
       "  </thead>\n",
       "  <tbody>\n",
       "    <tr>\n",
       "      <th>0</th>\n",
       "      <td>Morris Canal</td>\n",
       "      <td>710</td>\n",
       "    </tr>\n",
       "    <tr>\n",
       "      <th>1</th>\n",
       "      <td>Hamilton Park</td>\n",
       "      <td>1069</td>\n",
       "    </tr>\n",
       "    <tr>\n",
       "      <th>2</th>\n",
       "      <td>Sip Ave</td>\n",
       "      <td>1084</td>\n",
       "    </tr>\n",
       "    <tr>\n",
       "      <th>3</th>\n",
       "      <td>Exchange Place</td>\n",
       "      <td>1225</td>\n",
       "    </tr>\n",
       "    <tr>\n",
       "      <th>4</th>\n",
       "      <td>Grove St PATH</td>\n",
       "      <td>2115</td>\n",
       "    </tr>\n",
       "    <tr>\n",
       "      <th>0</th>\n",
       "      <td>Others</td>\n",
       "      <td>11349</td>\n",
       "    </tr>\n",
       "  </tbody>\n",
       "</table>\n",
       "</div>"
      ],
      "text/plain": [
       "     PickUp_Point  Number\n",
       "0    Morris Canal     710\n",
       "1   Hamilton Park    1069\n",
       "2         Sip Ave    1084\n",
       "3  Exchange Place    1225\n",
       "4   Grove St PATH    2115\n",
       "0          Others   11349"
      ]
     },
     "execution_count": 15,
     "metadata": {},
     "output_type": "execute_result"
    }
   ],
   "source": [
    "df_viz"
   ]
  },
  {
   "cell_type": "code",
   "execution_count": 18,
   "id": "e8400841",
   "metadata": {},
   "outputs": [
    {
     "data": {
      "image/png": "[encoded data removed]",
      "text/plain": [
       "<Figure size 1000x600 with 1 Axes>"
      ]
     },
     "metadata": {},
     "output_type": "display_data"
    }
   ],
   "source": [
    "ax = df_viz.plot.barh(x = 'PickUp_Point',stacked = True, figsize = (10,6))\n",
    "ax.set_xlabel('Value')\n",
    "ax.set_ylabel('Station Name')\n",
    "ax.set_title('Top 5 Station Pick Up Points Compared With Others')\n",
    "ax.legend(title='Total Pick Up Request', bbox_to_anchor=(1.05, 1))\n",
    "plt.show()"
   ]
  },
  {
   "cell_type": "code",
   "execution_count": 45,
   "id": "bd5eb5aa",
   "metadata": {},
   "outputs": [],
   "source": [
    "#How does the average trip duration vary across different age groups?\n",
    "querry = \"\"\"\n",
    "SELECT\n",
    "   \"Age Groups\" AS Usia ,\n",
    "   AVG(\"Trip Duration\")/60 AS \"Durasi (menit)\"\n",
    "FROM df GROUP BY 1;\n",
    "\"\"\"\n",
    "df_viz = sqldf.run(querry)"
   ]
  },
  {
   "cell_type": "code",
   "execution_count": 47,
   "id": "e5b98dc7",
   "metadata": {},
   "outputs": [
    {
     "data": {
      "image/png": "[encoded data removed]",
      "text/plain": [
       "<Figure size 1000x600 with 1 Axes>"
      ]
     },
     "metadata": {},
     "output_type": "display_data"
    }
   ],
   "source": [
    "ax = df_viz.plot.bar(x = 'Usia',stacked = True, figsize = (10,6))\n",
    "ax.set_xlabel('Kelompok Usia')\n",
    "ax.set_ylabel('Durasi Rental (Menit)')\n",
    "ax.set_title('Perbandingan Kelompok Usia terhadap durasi')\n",
    "ax.legend(title='Average Durasi')\n",
    "plt.show()"
   ]
  },
  {
   "cell_type": "code",
   "execution_count": 48,
   "id": "ceb41e84",
   "metadata": {},
   "outputs": [
    {
     "data": {
      "image/png": "[encoded data removed]",
      "text/plain": [
       "<Figure size 1000x600 with 1 Axes>"
      ]
     },
     "metadata": {},
     "output_type": "display_data"
    }
   ],
   "source": [
    "#Which age group rents the most bikes?\n",
    "querry = \"\"\"\n",
    "SELECT\n",
    "   \"Age Groups\" AS Usia ,\n",
    "   COUNT(*) AS Jumlah\n",
    "FROM df GROUP BY 1;\n",
    "\"\"\"\n",
    "df_viz = sqldf.run(querry)\n",
    "ax = df_viz.plot.bar(x = 'Usia',stacked = True, figsize = (10,6))\n",
    "ax.set_xlabel('Kelompok Usia')\n",
    "ax.set_ylabel('Jumlah rental')\n",
    "ax.set_title('Perbandingan Kelompok Usia terhadap Jumlah Rental')\n",
    "plt.show()"
   ]
  },
  {
   "cell_type": "code",
   "execution_count": 153,
   "id": "5a0ee4e6",
   "metadata": {},
   "outputs": [
    {
     "data": {
      "text/plain": [
       "Start Time            object\n",
       "Start Station Name    object\n",
       "User Type             object\n",
       "Age                    int64\n",
       "Age Groups            object\n",
       "Trip Duration          int64\n",
       "DOW                   object\n",
       "dtype: object"
      ]
     },
     "execution_count": 153,
     "metadata": {},
     "output_type": "execute_result"
    }
   ],
   "source": [
    "#How does bike rental vary across the \n",
    "#two user groups (one-time users vs long-term subscribers) on different days of the week?\n",
    "df.dtypes"
   ]
  },
  {
   "cell_type": "code",
   "execution_count": 154,
   "id": "e2213b42",
   "metadata": {},
   "outputs": [],
   "source": [
    "df['Start Time'] = pd.to_datetime(df['Start Time'])\n",
    "df['DOW'] = df['Start Time'].dt.day_name()"
   ]
  },
  {
   "cell_type": "code",
   "execution_count": 151,
   "id": "1a6dc264",
   "metadata": {},
   "outputs": [
    {
     "data": {
      "text/html": [
       "<div>\n",
       "<style scoped>\n",
       "    .dataframe tbody tr th:only-of-type {\n",
       "        vertical-align: middle;\n",
       "    }\n",
       "\n",
       "    .dataframe tbody tr th {\n",
       "        vertical-align: top;\n",
       "    }\n",
       "\n",
       "    .dataframe thead th {\n",
       "        text-align: right;\n",
       "    }\n",
       "</style>\n",
       "<table border=\"1\" class=\"dataframe\">\n",
       "  <thead>\n",
       "    <tr style=\"text-align: right;\">\n",
       "      <th></th>\n",
       "      <th>Hari</th>\n",
       "      <th>User Type</th>\n",
       "      <th>Jumlah</th>\n",
       "      <th>id</th>\n",
       "    </tr>\n",
       "  </thead>\n",
       "  <tbody>\n",
       "    <tr>\n",
       "      <th>0</th>\n",
       "      <td>Monday</td>\n",
       "      <td>One-time user</td>\n",
       "      <td>54</td>\n",
       "      <td>1</td>\n",
       "    </tr>\n",
       "    <tr>\n",
       "      <th>1</th>\n",
       "      <td>Monday</td>\n",
       "      <td>Subscriber</td>\n",
       "      <td>2603</td>\n",
       "      <td>1</td>\n",
       "    </tr>\n",
       "    <tr>\n",
       "      <th>2</th>\n",
       "      <td>Tuesday</td>\n",
       "      <td>One-time user</td>\n",
       "      <td>18</td>\n",
       "      <td>2</td>\n",
       "    </tr>\n",
       "    <tr>\n",
       "      <th>3</th>\n",
       "      <td>Tuesday</td>\n",
       "      <td>Subscriber</td>\n",
       "      <td>2475</td>\n",
       "      <td>2</td>\n",
       "    </tr>\n",
       "    <tr>\n",
       "      <th>4</th>\n",
       "      <td>Wednesday</td>\n",
       "      <td>One-time user</td>\n",
       "      <td>23</td>\n",
       "      <td>3</td>\n",
       "    </tr>\n",
       "    <tr>\n",
       "      <th>5</th>\n",
       "      <td>Wednesday</td>\n",
       "      <td>Subscriber</td>\n",
       "      <td>2290</td>\n",
       "      <td>3</td>\n",
       "    </tr>\n",
       "    <tr>\n",
       "      <th>6</th>\n",
       "      <td>Friday</td>\n",
       "      <td>One-time user</td>\n",
       "      <td>31</td>\n",
       "      <td>5</td>\n",
       "    </tr>\n",
       "    <tr>\n",
       "      <th>7</th>\n",
       "      <td>Friday</td>\n",
       "      <td>Subscriber</td>\n",
       "      <td>2956</td>\n",
       "      <td>5</td>\n",
       "    </tr>\n",
       "    <tr>\n",
       "      <th>8</th>\n",
       "      <td>Saturday</td>\n",
       "      <td>One-time user</td>\n",
       "      <td>100</td>\n",
       "      <td>6</td>\n",
       "    </tr>\n",
       "    <tr>\n",
       "      <th>9</th>\n",
       "      <td>Saturday</td>\n",
       "      <td>Subscriber</td>\n",
       "      <td>1581</td>\n",
       "      <td>6</td>\n",
       "    </tr>\n",
       "    <tr>\n",
       "      <th>10</th>\n",
       "      <td>Sunday</td>\n",
       "      <td>One-time user</td>\n",
       "      <td>71</td>\n",
       "      <td>7</td>\n",
       "    </tr>\n",
       "    <tr>\n",
       "      <th>11</th>\n",
       "      <td>Sunday</td>\n",
       "      <td>Subscriber</td>\n",
       "      <td>2006</td>\n",
       "      <td>7</td>\n",
       "    </tr>\n",
       "    <tr>\n",
       "      <th>12</th>\n",
       "      <td>Thursday</td>\n",
       "      <td>One-time user</td>\n",
       "      <td>21</td>\n",
       "      <td>7</td>\n",
       "    </tr>\n",
       "    <tr>\n",
       "      <th>13</th>\n",
       "      <td>Thursday</td>\n",
       "      <td>Subscriber</td>\n",
       "      <td>2613</td>\n",
       "      <td>7</td>\n",
       "    </tr>\n",
       "  </tbody>\n",
       "</table>\n",
       "</div>"
      ],
      "text/plain": [
       "         Hari      User Type  Jumlah  id\n",
       "0      Monday  One-time user      54   1\n",
       "1      Monday     Subscriber    2603   1\n",
       "2     Tuesday  One-time user      18   2\n",
       "3     Tuesday     Subscriber    2475   2\n",
       "4   Wednesday  One-time user      23   3\n",
       "5   Wednesday     Subscriber    2290   3\n",
       "6      Friday  One-time user      31   5\n",
       "7      Friday     Subscriber    2956   5\n",
       "8    Saturday  One-time user     100   6\n",
       "9    Saturday     Subscriber    1581   6\n",
       "10     Sunday  One-time user      71   7\n",
       "11     Sunday     Subscriber    2006   7\n",
       "12   Thursday  One-time user      21   7\n",
       "13   Thursday     Subscriber    2613   7"
      ]
     },
     "execution_count": 151,
     "metadata": {},
     "output_type": "execute_result"
    }
   ],
   "source": [
    "querry = \"\"\"\n",
    "SELECT\n",
    "   DOW AS Hari ,\n",
    "   \"User Type\",\n",
    "   COUNT(*) AS Jumlah,\n",
    " CASE DOW \n",
    "        WHEN 'Monday' THEN 1\n",
    "        WHEN 'Tuesday' THEN 2\n",
    "        WHEN 'Wednesday' THEN 3\n",
    "        WHEN 'Thurday' THEN 4\n",
    "        WHEN 'Friday' THEN 5\n",
    "        WHEN 'Saturday' Then 6\n",
    "        ELSE 7 END AS id\n",
    "FROM df GROUP BY 1,2 ORDER BY 4;\n",
    "\"\"\"\n",
    "sqldf.run(querry)"
   ]
  },
  {
   "cell_type": "code",
   "execution_count": 156,
   "id": "3440a570",
   "metadata": {},
   "outputs": [
    {
     "data": {
      "image/png": "[encoded data removed]",
      "text/plain": [
       "<Figure size 600x600 with 1 Axes>"
      ]
     },
     "metadata": {},
     "output_type": "display_data"
    }
   ],
   "source": [
    "#Does user age impact the average bike trip duration?\n",
    "df.plot(kind='scatter', x='Age', y='Trip Duration', figsize=(6, 6), marker='o', color='blue', edgecolor='black', s=50, alpha=0.7, label=\"Data\")\n",
    "plt.show()"
   ]
  }
 ],
 "metadata": {
  "kernelspec": {
   "display_name": "Python 3 (ipykernel)",
   "language": "python",
   "name": "python3"
  },
  "language_info": {
   "codemirror_mode": {
    "name": "ipython",
    "version": 3
   },
   "file_extension": ".py",
   "mimetype": "text/x-python",
   "name": "python",
   "nbconvert_exporter": "python",
   "pygments_lexer": "ipython3",
   "version": "3.9.13"
  }
 },
 "nbformat": 4,
 "nbformat_minor": 5
}
