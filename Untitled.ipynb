{
 "cells": [
  {
   "cell_type": "markdown",
   "id": "84e81a69",
   "metadata": {},
   "source": [
    "# Latihan Project Data Analysis <br>\n",
    "\n",
    "  Nama        : Vito Anthoni Stanpo <br>\n",
    "  Tanggal     : 7 Desember 2022  <br>\n",
    "  src         : https://www.youtube.com/watch?v=4hYOkHijtNw&list=PLy3lFw0OTlutzXFVwttrtaRGEEyLEdnpy "
   ]
  },
  {
   "cell_type": "markdown",
   "id": "ce964cff",
   "metadata": {},
   "source": [
    "## Deklarasi Library"
   ]
  },
  {
   "cell_type": "code",
   "execution_count": 1,
   "id": "07bea7fc",
   "metadata": {},
   "outputs": [],
   "source": [
    "#Importing Important Library\n",
    "import pandas as pd\n"
   ]
  },
  {
   "cell_type": "markdown",
   "id": "3e2687e6",
   "metadata": {},
   "source": [
    "## Wheater Dataset\n",
    "\n",
    "Merupakan kumpulan data cuaca pada waktu didapat dari link youtube diatas.Dataset berisikan kumpulan Temperatur, Titik Dew Point, Kelembapan relatif, kecepatan angin, Penampakan, teknan dan kondisi"
   ]
  },
  {
   "cell_type": "code",
   "execution_count": null,
   "id": "bd3d3f10",
   "metadata": {},
   "outputs": [],
   "source": [
    "#importing dataset\n",
    "dataset = pd.read_csv()"
   ]
  }
 ],
 "metadata": {
  "kernelspec": {
   "display_name": "Python 3 (ipykernel)",
   "language": "python",
   "name": "python3"
  },
  "language_info": {
   "codemirror_mode": {
    "name": "ipython",
    "version": 3
   },
   "file_extension": ".py",
   "mimetype": "text/x-python",
   "name": "python",
   "nbconvert_exporter": "python",
   "pygments_lexer": "ipython3",
   "version": "3.9.13"
  }
 },
 "nbformat": 4,
 "nbformat_minor": 5
}
